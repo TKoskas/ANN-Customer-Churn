{
 "cells": [
  {
   "cell_type": "markdown",
   "id": "da6c04d9-a17f-476a-a2ef-293a7f787d5c",
   "metadata": {},
   "source": [
    "# Artificial Neural Network\n"
   ]
  },
  {
   "cell_type": "code",
   "execution_count": null,
   "id": "ee964d3b-9617-4b5b-a70d-15fbff42d6f8",
   "metadata": {},
   "outputs": [],
   "source": [
    "# Importing the libraries\n",
    "import numpy as np\n",
    "import pandas as pd\n",
    "import tensorflow as tf\n",
    "\n",
    "print(tf.__version__)\n"
   ]
  },
  {
   "cell_type": "markdown",
   "id": "2be30277-76e1-4500-9602-43ea3218ce30",
   "metadata": {},
   "source": [
    "## Part 1 - Data Preprocessing\n"
   ]
  },
  {
   "cell_type": "code",
   "execution_count": null,
   "id": "8676b5b3-9619-4d05-b06d-face8a96e9b7",
   "metadata": {},
   "outputs": [],
   "source": [
    "# Importing the dataset\n",
    "dataset = pd.read_csv('Churn_Modelling.csv')\n",
    "X = dataset.iloc[:, 3:-1].values\n",
    "y = dataset.iloc[:, -1].values\n",
    "\n",
    "print(X)\n",
    "print(y)\n"
   ]
  },
  {
   "cell_type": "markdown",
   "id": "2244604c-de0f-4dab-800e-cd5de07a4b96",
   "metadata": {},
   "source": [
    "### Encoding categorical data\n"
   ]
  },
  {
   "cell_type": "code",
   "execution_count": null,
   "id": "c208f67a-9bd6-4605-9166-83a654b321ac",
   "metadata": {},
   "outputs": [],
   "source": [
    "# Label Encoding the \"Gender\" column\n",
    "from sklearn.preprocessing import LabelEncoder\n",
    "le = LabelEncoder()\n",
    "X[:, 2] = le.fit_transform(X[:, 2])\n",
    "\n",
    "print(X)\n"
   ]
  },
  {
   "cell_type": "code",
   "execution_count": null,
   "id": "a4e58efe-1431-408b-a810-d142a0a08211",
   "metadata": {},
   "outputs": [],
   "source": [
    "# One Hot Encoding the \"Geography\" column\n",
    "from sklearn.compose import ColumnTransformer\n",
    "from sklearn.preprocessing import OneHotEncoder\n",
    "ct = ColumnTransformer(transformers=[('encoder', OneHotEncoder(), [1])], remainder='passthrough')\n",
    "X = np.array(ct.fit_transform(X))\n",
    "\n",
    "print(X)\n"
   ]
  },
  {
   "cell_type": "markdown",
   "id": "0efbcfd3-cf2e-4202-bf91-f1655cb33c44",
   "metadata": {},
   "source": [
    "### Splitting the dataset into the Training set and Test set\n"
   ]
  },
  {
   "cell_type": "code",
   "execution_count": null,
   "id": "41038e1e-62c1-4c34-9d47-f62c497bd0e8",
   "metadata": {},
   "outputs": [],
   "source": [
    "from sklearn.model_selection import train_test_split\n",
    "X_train, X_test, y_train, y_test = train_test_split(X, y, test_size = 0.2, random_state = 0)\n"
   ]
  },
  {
   "cell_type": "markdown",
   "id": "6f86963f-8671-4995-a6f0-07329f47b075",
   "metadata": {},
   "source": [
    "### Feature Scaling\n"
   ]
  },
  {
   "cell_type": "code",
   "execution_count": null,
   "id": "bf98533b-887e-4751-a7bf-c28c4aa25520",
   "metadata": {},
   "outputs": [],
   "source": [
    "from sklearn.preprocessing import StandardScaler\n",
    "sc = StandardScaler()\n",
    "X_train = sc.fit_transform(X_train)\n",
    "X_test = sc.transform(X_test)\n"
   ]
  },
  {
   "cell_type": "markdown",
   "id": "7cb92086-cf9c-4420-b9d1-fb2649485c45",
   "metadata": {},
   "source": [
    "## Part 2 - Building the ANN\n"
   ]
  },
  {
   "cell_type": "code",
   "execution_count": null,
   "id": "4ed16749-077f-4260-a284-87a6d36a4822",
   "metadata": {},
   "outputs": [],
   "source": [
    "# Initializing the ANN\n",
    "ann = tf.keras.models.Sequential()\n",
    "\n",
    "# Adding the input layer and the first hidden layer\n",
    "ann.add(tf.keras.layers.Dense(units=6, activation='relu'))\n",
    "\n",
    "# Adding the second hidden layer\n",
    "ann.add(tf.keras.layers.Dense(units=6, activation='relu'))\n",
    "\n",
    "# Adding the output layer\n",
    "ann.add(tf.keras.layers.Dense(units=1, activation='sigmoid'))\n"
   ]
  },
  {
   "cell_type": "markdown",
   "id": "23a20879-7ea4-40f4-9071-a2667f68ca2c",
   "metadata": {},
   "source": [
    "## Part 3 - Training the ANN\n"
   ]
  },
  {
   "cell_type": "code",
   "execution_count": null,
   "id": "45d7499f-84d3-41d3-8154-79b1196a11e9",
   "metadata": {},
   "outputs": [],
   "source": [
    "# Compiling the ANN\n",
    "ann.compile(optimizer = 'adam', loss = 'binary_crossentropy', metrics = ['accuracy'])\n",
    "\n",
    "# Training the ANN on the Training set\n",
    "ann.fit(X_train, y_train, batch_size = 32, epochs = 100)\n"
   ]
  },
  {
   "cell_type": "markdown",
   "id": "b35981e9-ab62-402d-b2ca-9cc6f657705a",
   "metadata": {},
   "source": [
    "## Part 4 - Making the predictions and evaluating the model\n"
   ]
  },
  {
   "cell_type": "code",
   "execution_count": null,
   "id": "cf3d299f-390d-4a95-b928-5f1644f6baef",
   "metadata": {},
   "outputs": [],
   "source": [
    "# Predicting the result of a single observation\n",
    "print(ann.predict(sc.transform([[1, 0, 0, 600, 1, 40, 3, 60000, 2, 1, 1, 50000]])) > 0.5)\n"
   ]
  },
  {
   "cell_type": "markdown",
   "id": "a4da80a3-d95e-4f7f-9b2a-8355171c0841",
   "metadata": {},
   "source": [
    "### Predicting the Test set results\n"
   ]
  },
  {
   "cell_type": "code",
   "execution_count": null,
   "id": "a54b6ca3-05b2-40df-8d41-e06b15e0b71d",
   "metadata": {},
   "outputs": [],
   "source": [
    "y_pred = ann.predict(X_test)\n",
    "y_pred = (y_pred > 0.5)\n",
    "print(np.concatenate((y_pred.reshape(len(y_pred),1), y_test.reshape(len(y_test),1)),1))\n"
   ]
  },
  {
   "cell_type": "markdown",
   "id": "68e4de25-9569-4a2f-b40b-63d417e73aab",
   "metadata": {},
   "source": [
    "### Making the Confusion Matrix\n"
   ]
  },
  {
   "cell_type": "code",
   "execution_count": null,
   "id": "2ecf6823-b476-4c9d-ad42-fbe235bf046f",
   "metadata": {},
   "outputs": [],
   "source": [
    "from sklearn.metrics import confusion_matrix, accuracy_score\n",
    "cm = confusion_matrix(y_test, y_pred)\n",
    "print(cm)\n",
    "print(accuracy_score(y_test, y_pred))\n"
   ]
  }
 ],
 "metadata": {
  "kernelspec": {
   "display_name": "Python 3 (ipykernel)",
   "language": "python",
   "name": "python3"
  },
  "language_info": {
   "codemirror_mode": {
    "name": "ipython",
    "version": 3
   },
   "file_extension": ".py",
   "mimetype": "text/x-python",
   "name": "python",
   "nbconvert_exporter": "python",
   "pygments_lexer": "ipython3",
   "version": "3.12.4"
  }
 },
 "nbformat": 4,
 "nbformat_minor": 5
}
